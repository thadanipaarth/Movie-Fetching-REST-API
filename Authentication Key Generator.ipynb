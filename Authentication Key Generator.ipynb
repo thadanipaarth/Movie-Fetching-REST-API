{
 "cells": [
  {
   "cell_type": "markdown",
   "metadata": {},
   "source": [
    "## Key Generator"
   ]
  },
  {
   "cell_type": "code",
   "execution_count": null,
   "metadata": {},
   "outputs": [],
   "source": [
    "import time"
   ]
  },
  {
   "cell_type": "code",
   "execution_count": null,
   "metadata": {},
   "outputs": [],
   "source": [
    "from jose import jwt"
   ]
  },
  {
   "cell_type": "code",
   "execution_count": null,
   "metadata": {},
   "outputs": [],
   "source": [
    "# JSON Web Token Configuration \n",
    "JWT_ISSUER = 'Movies API'\n",
    "JWT_SECRET = 'thisismyrestapi' # Secret key used to encode and decode the token\n",
    "JWT_LIFETIME_SECONDS = 365*24*60*60 # Lifetime of the token in seconds\n",
    "JWT_ALGORITHM = 'HS256'"
   ]
  },
  {
   "cell_type": "code",
   "execution_count": null,
   "metadata": {},
   "outputs": [],
   "source": [
    "timestamp= time.time() # Current time in floating point number expressed in seconds since the epoch, in UTC."
   ]
  },
  {
   "cell_type": "code",
   "execution_count": null,
   "metadata": {},
   "outputs": [],
   "source": [
    "timestamp"
   ]
  },
  {
   "cell_type": "code",
   "execution_count": null,
   "metadata": {},
   "outputs": [],
   "source": [
    "# Payload definition\n",
    "payload = {\n",
    "    \"iss\": JWT_ISSUER,\n",
    "    \"iat\": int(timestamp),\n",
    "    \"exp\": int(timestamp + JWT_LIFETIME_SECONDS),\n",
    "    \"sub\": 'Quantify Capital',\n",
    "}"
   ]
  },
  {
   "cell_type": "code",
   "execution_count": null,
   "metadata": {},
   "outputs": [],
   "source": [
    "jwt.encode(payload, JWT_SECRET, algorithm=JWT_ALGORITHM)"
   ]
  },
  {
   "cell_type": "code",
   "execution_count": null,
   "metadata": {},
   "outputs": [],
   "source": []
  }
 ],
 "metadata": {
  "kernelspec": {
   "display_name": "Python 3",
   "language": "python",
   "name": "python3"
  },
  "language_info": {
   "codemirror_mode": {
    "name": "ipython",
    "version": 3
   },
   "file_extension": ".py",
   "mimetype": "text/x-python",
   "name": "python",
   "nbconvert_exporter": "python",
   "pygments_lexer": "ipython3",
   "version": "3.6.2"
  }
 },
 "nbformat": 4,
 "nbformat_minor": 4
}

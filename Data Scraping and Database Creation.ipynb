{
 "cells": [
  {
   "cell_type": "markdown",
   "metadata": {},
   "source": [
    "## Data Scraping "
   ]
  },
  {
   "cell_type": "code",
   "execution_count": null,
   "metadata": {},
   "outputs": [],
   "source": [
    "from selenium import webdriver\n",
    "from bs4 import BeautifulSoup"
   ]
  },
  {
   "cell_type": "code",
   "execution_count": null,
   "metadata": {},
   "outputs": [],
   "source": [
    "\"\"\"\n",
    "Opening a Google Chrome browser simulation, to get complete web page's code including dynamically rendered content.  \n",
    "\"\"\"\n",
    "browser= webdriver.Chrome('./chromedriver.exe')"
   ]
  },
  {
   "cell_type": "code",
   "execution_count": null,
   "metadata": {},
   "outputs": [],
   "source": [
    "browser.delete_all_cookies()"
   ]
  },
  {
   "cell_type": "code",
   "execution_count": null,
   "metadata": {},
   "outputs": [],
   "source": [
    "browser.get('https://www.imdb.com/chart/top?ref_=nv_mv_250') ## Navigating to the required page."
   ]
  },
  {
   "cell_type": "code",
   "execution_count": null,
   "metadata": {},
   "outputs": [],
   "source": [
    "## Initializing BeautifulSoup object to extract information from HTML File.\n",
    "soup= BeautifulSoup(browser.page_source, \"html.parser\") "
   ]
  },
  {
   "cell_type": "code",
   "execution_count": null,
   "metadata": {},
   "outputs": [],
   "source": [
    "\"\"\"\n",
    "Finding all the <table> tags, where class=\"chart full-width\", this table contains all the data of movie. \n",
    "This was determined by observing the source code of the given webpage. \n",
    "Using find_all instead of find to be double sure, if any there are any other tables with the same characteristics. \n",
    "\n",
    "\"\"\"\n",
    "\n",
    "movie_table=soup.find_all('table',class_=\"chart full-width\")"
   ]
  },
  {
   "cell_type": "code",
   "execution_count": null,
   "metadata": {},
   "outputs": [],
   "source": [
    "len(movie_table)"
   ]
  },
  {
   "cell_type": "code",
   "execution_count": null,
   "metadata": {},
   "outputs": [],
   "source": [
    "movie_data=movie_table[0].find_all('tbody')[0].find_all('tr')"
   ]
  },
  {
   "cell_type": "code",
   "execution_count": null,
   "metadata": {},
   "outputs": [],
   "source": [
    "len(movie_data)"
   ]
  },
  {
   "cell_type": "code",
   "execution_count": null,
   "metadata": {},
   "outputs": [],
   "source": [
    "## Defining the list that will have all appropiate data after processing. (Format: [Name, Year, Rating, Thumbnail URL])\n",
    "required_data=[]"
   ]
  },
  {
   "cell_type": "code",
   "execution_count": null,
   "metadata": {},
   "outputs": [],
   "source": [
    "## Below all the unique characteristics of the required information are derived by observation.\n",
    "for each in movie_data:\n",
    "    required_data.append([\n",
    "        each.find('td',class_=\"titleColumn\").find(\"a\").text, ## Name\n",
    "        int(each.find('span',class_=\"secondaryInfo\").text[1:-1]), ## Year\n",
    "        float(each.find('td',class_=\"ratingColumn imdbRating\").find('strong').text), ## Rating\n",
    "        each.find('td',class_=\"posterColumn\").find('img').get('src') ## Thumbnail URL\n",
    "    ])"
   ]
  },
  {
   "cell_type": "code",
   "execution_count": null,
   "metadata": {},
   "outputs": [],
   "source": [
    "required_data"
   ]
  },
  {
   "cell_type": "code",
   "execution_count": null,
   "metadata": {},
   "outputs": [],
   "source": [
    "import pandas as pd"
   ]
  },
  {
   "cell_type": "code",
   "execution_count": null,
   "metadata": {},
   "outputs": [],
   "source": [
    "## Saving the data in csv for further usage. \n",
    "pd.DataFrame(required_data,columns=['Name','Year','Rating','Thumbnail URL']).to_csv('./imdb-movies-data.csv', index=False)"
   ]
  },
  {
   "cell_type": "markdown",
   "metadata": {},
   "source": [
    "## Creating Database"
   ]
  },
  {
   "cell_type": "code",
   "execution_count": null,
   "metadata": {},
   "outputs": [],
   "source": [
    "import sqlite3"
   ]
  },
  {
   "cell_type": "code",
   "execution_count": null,
   "metadata": {},
   "outputs": [],
   "source": [
    "connection= sqlite3.connect('database.db') ## Connecting to './imdb.db', new database will be created if it does not exsist."
   ]
  },
  {
   "cell_type": "code",
   "execution_count": null,
   "metadata": {},
   "outputs": [],
   "source": [
    "cur= connection.cursor()"
   ]
  },
  {
   "cell_type": "code",
   "execution_count": null,
   "metadata": {},
   "outputs": [],
   "source": [
    "## This line is only written for convenience in case, if the code is again run.\n",
    "cur.execute(\"DROP TABLE IF EXISTS 'movies'\")"
   ]
  },
  {
   "cell_type": "code",
   "execution_count": null,
   "metadata": {},
   "outputs": [],
   "source": [
    "\"\"\"\n",
    "The code below clearly depicts the schema of the table.\n",
    "\n",
    "thumbnail_url is selected as the primary key because two movies can have same Name, Year and Rating. \n",
    "For example:\n",
    "[1] Chaos(2005): https://www.imdb.com/title/tt0402910/\n",
    "[2] Chaos(2005): https://www.imdb.com/title/tt0405977/\n",
    "\n",
    "The above two movies have same Name and Year of release. Therefore, thumbnail i.e. poster of the movie will be unqiue. \n",
    "\n",
    "\"\"\"\n",
    "create_movies_table = \"\"\" CREATE TABLE movies (\n",
    "                                        name text NOT NULL,\n",
    "                                        year integer NOT NULL,\n",
    "                                        rating real NOT NULL,\n",
    "                                        thumbnail_url text PRIMARY KEY\n",
    "                                    ); \"\"\""
   ]
  },
  {
   "cell_type": "code",
   "execution_count": null,
   "metadata": {},
   "outputs": [],
   "source": [
    "cur.execute(create_movies_table)"
   ]
  },
  {
   "cell_type": "code",
   "execution_count": null,
   "metadata": {},
   "outputs": [],
   "source": [
    "cur.executemany(\"INSERT INTO movies VALUES (?,?,?,?);\",required_data) ## Inserting the complete data into the table"
   ]
  },
  {
   "cell_type": "code",
   "execution_count": null,
   "metadata": {},
   "outputs": [],
   "source": [
    "## Confirming if the data is properly inserted and number of rows are equal to the original movies in the data. \n",
    "cur.execute(\"SELECT * FROM movies;\")\n",
    "len(cur.fetchall())"
   ]
  },
  {
   "cell_type": "code",
   "execution_count": null,
   "metadata": {},
   "outputs": [],
   "source": [
    "connection.commit() ## Commiting all the changes made in the database, if it is not run the changes will not be saved. "
   ]
  },
  {
   "cell_type": "code",
   "execution_count": null,
   "metadata": {},
   "outputs": [],
   "source": [
    "connection.close()"
   ]
  }
 ],
 "metadata": {
  "kernelspec": {
   "display_name": "Python 3",
   "language": "python",
   "name": "python3"
  },
  "language_info": {
   "codemirror_mode": {
    "name": "ipython",
    "version": 3
   },
   "file_extension": ".py",
   "mimetype": "text/x-python",
   "name": "python",
   "nbconvert_exporter": "python",
   "pygments_lexer": "ipython3",
   "version": "3.6.2"
  }
 },
 "nbformat": 4,
 "nbformat_minor": 4
}
